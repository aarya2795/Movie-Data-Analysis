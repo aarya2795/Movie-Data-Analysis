{
 "cells": [
  {
   "cell_type": "markdown",
   "metadata": {},
   "source": [
    "<h2> Nested Lists </h2>\n",
    "<h4><u> Problem Statment </u></h4>\n",
    "<br>\n",
    "Given the names and grades for each student in a Physics class of  students, store them in a nested list and print the name(s) of any student(s) having the second lowest grade.\n",
    "<br>\n",
    "<b>Note:</b> If there are multiple students with the same grade, order their names alphabetically and print each name on a new line."
   ]
  },
  {
   "cell_type": "code",
   "execution_count": 1,
   "metadata": {},
   "outputs": [
    {
     "name": "stdout",
     "output_type": "stream",
     "text": [
      "5\n",
      "Harry\n",
      "37.21\n",
      "Berry\n",
      "37.21\n",
      "Tina\n",
      "37.2\n",
      "Akriti\n",
      "41\n",
      "Harsh\n",
      "39\n",
      "The names having second lowest grade are: \n",
      "Berry\n",
      "Harry\n"
     ]
    }
   ],
   "source": [
    "if __name__ == '__main__':\n",
    "    student_data = []\n",
    "    for _ in range(int(input())):\n",
    "        name = input()\n",
    "        score = float(input())\n",
    "        student_data.append([name,score])\n",
    "    \n",
    "    # for each record in student_data\n",
    "    # sort via the scores in ascending order\n",
    "    # with '{}' within sorted[], creates a \"set\"\n",
    "    # Note: here we are using set as it removes the additional same numbers\n",
    "    sortedScores = sorted({s[1] for s in student_data})\n",
    "\n",
    "    # for each record in student_data (s)\n",
    "    # namesSorted is a soreted (by name which is s[0]) list of all students \n",
    "    # whose score is equal to the second lowest score which is s[1] in scoresSorted\n",
    "    namesSorted = sorted(s[0] for s in student_data if (sortedScores[1]==s[1]))\n",
    "    \n",
    "    #.join(namesSorted) takes each element in the nameSort list\n",
    "    # \"\\n\" seperates using a newline BETWEEN each element\n",
    "    print(\"The names having second lowest grade are: \")\n",
    "    print('\\n'.join(namesSorted))"
   ]
  },
  {
   "cell_type": "code",
   "execution_count": null,
   "metadata": {},
   "outputs": [],
   "source": []
  }
 ],
 "metadata": {
  "kernelspec": {
   "display_name": "Python 3",
   "language": "python",
   "name": "python3"
  },
  "language_info": {
   "codemirror_mode": {
    "name": "ipython",
    "version": 3
   },
   "file_extension": ".py",
   "mimetype": "text/x-python",
   "name": "python",
   "nbconvert_exporter": "python",
   "pygments_lexer": "ipython3",
   "version": "3.7.3"
  }
 },
 "nbformat": 4,
 "nbformat_minor": 2
}
